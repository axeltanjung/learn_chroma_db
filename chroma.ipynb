{
 "cells": [
  {
   "cell_type": "code",
   "execution_count": null,
   "id": "a8e873ee",
   "metadata": {},
   "outputs": [],
   "source": [
    "import csv\n",
    "\n",
    "# Load sample data (a restaurant menu of items)\n",
    "with open('menu_items.csv') as file:\n",
    "    lines = csv.reader(file)\n",
    "\n",
    "    # Store the name of the menu items in this array. In Chroma, a \"document\" is a string i.e. name, sentence, paragraph, etc.\n",
    "    documents = []\n",
    "\n",
    "    # Store the corresponding menu item IDs in this array.\n",
    "    metadata = []\n",
    "\n",
    "    # Each \"document\" needs a unique ID. This is like the primary key of a relational database. We'll start at 1 and increment from there.\n",
    "    ids = []\n",
    "    id = 1\n",
    "\n",
    "    for i, line in enumerate(lines):\n",
    "        if i == 0:\n",
    "            continue\n",
    "\n",
    "        documents.append(line[1])\n",
    "        metadata.append({\"item_id\": line[0]})\n",
    "        ids.append(str(id))\n",
    "        id += 1"
   ]
  },
  {
   "cell_type": "code",
   "execution_count": null,
   "id": "c511701d",
   "metadata": {},
   "outputs": [],
   "source": [
    "import chromadb\n",
    "from chromadb.utils import embedding_functions\n",
    "\n",
    "chroma_client = chromadb.Client()\n",
    "\n",
    "# Instantiate chromadb instance. Data is stored on disk (a folder named 'my_vectordb' will be created in the same folder as this file).\n",
    "chroma_client = chromadb.PersistentClient(path=\"./chromadb_data\")"
   ]
  },
  {
   "cell_type": "code",
   "execution_count": 9,
   "id": "dd3b9e19",
   "metadata": {},
   "outputs": [
    {
     "name": "stderr",
     "output_type": "stream",
     "text": [
      "d:\\Miniconda\\envs\\bootcamp_algo\\lib\\site-packages\\tqdm\\auto.py:21: TqdmWarning: IProgress not found. Please update jupyter and ipywidgets. See https://ipywidgets.readthedocs.io/en/stable/user_install.html\n",
      "  from .autonotebook import tqdm as notebook_tqdm\n",
      "d:\\Miniconda\\envs\\bootcamp_algo\\lib\\site-packages\\huggingface_hub\\file_download.py:143: UserWarning: `huggingface_hub` cache-system uses symlinks by default to efficiently store duplicated files but your machine does not support them in C:\\Users\\Axel\\.cache\\huggingface\\hub\\models--sentence-transformers--all-MiniLM-L6-v2. Caching files will still work but in a degraded version that might require more space on your disk. This warning can be disabled by setting the `HF_HUB_DISABLE_SYMLINKS_WARNING` environment variable. For more details, see https://huggingface.co/docs/huggingface_hub/how-to-cache#limitations.\n",
      "To support symlinks on Windows, you either need to activate Developer Mode or to run Python as an administrator. In order to activate developer mode, see this article: https://docs.microsoft.com/en-us/windows/apps/get-started/enable-your-device-for-development\n",
      "  warnings.warn(message)\n",
      "Xet Storage is enabled for this repo, but the 'hf_xet' package is not installed. Falling back to regular HTTP download. For better performance, install the package with: `pip install huggingface_hub[hf_xet]` or `pip install hf_xet`\n"
     ]
    }
   ],
   "source": [
    "# Select the embedding model to use.\n",
    "# List of model names can be found here https://www.sbert.net/docs/pretrained_models.html\n",
    "sentence_transformers_ef = embedding_functions.SentenceTransformerEmbeddingFunction(\n",
    "    model_name=\"all-MiniLM-L6-v2\"\n",
    ")\n",
    "\n",
    "# Create the collection, aka vector database. Or, if database already exist, then use it. Specify the model that we want to use to do the embedding.\n",
    "collection = chroma_client.create_collection(\n",
    "    name=\"menu_items_collection\",\n",
    "    embedding_function=sentence_transformers_ef\n",
    ")"
   ]
  },
  {
   "cell_type": "code",
   "execution_count": 10,
   "id": "d7635135",
   "metadata": {},
   "outputs": [],
   "source": [
    "collection.add(\n",
    "    documents=documents,\n",
    "    metadatas=metadata,\n",
    "    ids=ids\n",
    ")"
   ]
  },
  {
   "cell_type": "code",
   "execution_count": 12,
   "id": "e4ff1ad7",
   "metadata": {},
   "outputs": [
    {
     "name": "stdout",
     "output_type": "stream",
     "text": [
      "[['Fried Cake', 'Grilled Cake', 'Grilled Cake', 'Roasted Cake', 'Roasted Cake']]\n"
     ]
    }
   ],
   "source": [
    "# Query the vector database.\n",
    "query_results = collection.query(\n",
    "    query_texts=[\"chocolate cake\"],\n",
    "    n_results=5,\n",
    "    include=[\"documents\", \"metadatas\", \"distances\"]\n",
    ")\n",
    "print(query_results[\"documents\"])"
   ]
  },
  {
   "cell_type": "code",
   "execution_count": 13,
   "id": "0a517c6b",
   "metadata": {},
   "outputs": [
    {
     "name": "stdout",
     "output_type": "stream",
     "text": [
      "[['Fried Smoothie', 'Fried Smoothie', 'Fried Cake', 'Spicy Cake', 'Spicy Cake']]\n"
     ]
    }
   ],
   "source": [
    "# Query the vector database.\n",
    "query_results = collection.query(\n",
    "    query_texts=[\"donut\"],\n",
    "    n_results=5,\n",
    "    include=[\"documents\", \"metadatas\", \"distances\"]\n",
    ")\n",
    "print(query_results[\"documents\"])"
   ]
  },
  {
   "cell_type": "code",
   "execution_count": 14,
   "id": "eb7450fe",
   "metadata": {},
   "outputs": [
    {
     "name": "stdout",
     "output_type": "stream",
     "text": [
      "[['Fried Chicken', 'Sweet Chicken', 'Sweet Chicken', 'Spicy Chicken', 'Crispy Chicken']]\n"
     ]
    }
   ],
   "source": [
    "# Query the vector database.\n",
    "query_results = collection.query(\n",
    "    query_texts=[\"Chicken\"],\n",
    "    n_results=5,\n",
    "    include=[\"documents\", \"metadatas\", \"distances\"]\n",
    ")\n",
    "print(query_results[\"documents\"])"
   ]
  },
  {
   "cell_type": "code",
   "execution_count": null,
   "id": "e284ac2e",
   "metadata": {},
   "outputs": [],
   "source": []
  }
 ],
 "metadata": {
  "kernelspec": {
   "display_name": "bootcamp_algo",
   "language": "python",
   "name": "python3"
  },
  "language_info": {
   "codemirror_mode": {
    "name": "ipython",
    "version": 3
   },
   "file_extension": ".py",
   "mimetype": "text/x-python",
   "name": "python",
   "nbconvert_exporter": "python",
   "pygments_lexer": "ipython3",
   "version": "3.10.18"
  }
 },
 "nbformat": 4,
 "nbformat_minor": 5
}
