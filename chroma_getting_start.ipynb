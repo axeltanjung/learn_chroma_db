{
 "cells": [
  {
   "cell_type": "markdown",
   "id": "68ee159e",
   "metadata": {},
   "source": [
    "# Quick Start"
   ]
  },
  {
   "cell_type": "code",
   "execution_count": 2,
   "id": "a8e873ee",
   "metadata": {},
   "outputs": [],
   "source": [
    "import csv\n",
    "\n",
    "# Load sample data (a restaurant menu of items)\n",
    "with open('menu_items.csv') as file:\n",
    "    lines = csv.reader(file)\n",
    "\n",
    "    # Store the name of the menu items in this array. In Chroma, a \"document\" is a string i.e. name, sentence, paragraph, etc.\n",
    "    documents = []\n",
    "\n",
    "    # Store the corresponding menu item IDs in this array.\n",
    "    metadata = []\n",
    "\n",
    "    # Each \"document\" needs a unique ID. This is like the primary key of a relational database. We'll start at 1 and increment from there.\n",
    "    ids = []\n",
    "    id = 1\n",
    "\n",
    "    for i, line in enumerate(lines):\n",
    "        if i == 0:\n",
    "            continue\n",
    "\n",
    "        documents.append(line[1])\n",
    "        metadata.append({\"item_id\": line[0]})\n",
    "        ids.append(str(id))\n",
    "        id += 1"
   ]
  },
  {
   "cell_type": "code",
   "execution_count": 3,
   "id": "c511701d",
   "metadata": {},
   "outputs": [],
   "source": [
    "import chromadb\n",
    "from chromadb.utils import embedding_functions\n",
    "\n",
    "chroma_client = chromadb.Client()\n",
    "\n",
    "# Instantiate chromadb instance. Data is stored on disk (a folder named 'my_vectordb' will be created in the same folder as this file).\n",
    "chroma_client = chromadb.PersistentClient(path=\"./chromadb_data\")"
   ]
  },
  {
   "cell_type": "code",
   "execution_count": 9,
   "id": "dd3b9e19",
   "metadata": {},
   "outputs": [
    {
     "name": "stderr",
     "output_type": "stream",
     "text": [
      "d:\\Miniconda\\envs\\bootcamp_algo\\lib\\site-packages\\tqdm\\auto.py:21: TqdmWarning: IProgress not found. Please update jupyter and ipywidgets. See https://ipywidgets.readthedocs.io/en/stable/user_install.html\n",
      "  from .autonotebook import tqdm as notebook_tqdm\n",
      "d:\\Miniconda\\envs\\bootcamp_algo\\lib\\site-packages\\huggingface_hub\\file_download.py:143: UserWarning: `huggingface_hub` cache-system uses symlinks by default to efficiently store duplicated files but your machine does not support them in C:\\Users\\Axel\\.cache\\huggingface\\hub\\models--sentence-transformers--all-MiniLM-L6-v2. Caching files will still work but in a degraded version that might require more space on your disk. This warning can be disabled by setting the `HF_HUB_DISABLE_SYMLINKS_WARNING` environment variable. For more details, see https://huggingface.co/docs/huggingface_hub/how-to-cache#limitations.\n",
      "To support symlinks on Windows, you either need to activate Developer Mode or to run Python as an administrator. In order to activate developer mode, see this article: https://docs.microsoft.com/en-us/windows/apps/get-started/enable-your-device-for-development\n",
      "  warnings.warn(message)\n",
      "Xet Storage is enabled for this repo, but the 'hf_xet' package is not installed. Falling back to regular HTTP download. For better performance, install the package with: `pip install huggingface_hub[hf_xet]` or `pip install hf_xet`\n"
     ]
    }
   ],
   "source": [
    "# Select the embedding model to use.\n",
    "# List of model names can be found here https://www.sbert.net/docs/pretrained_models.html\n",
    "sentence_transformers_ef = embedding_functions.SentenceTransformerEmbeddingFunction(\n",
    "    model_name=\"all-MiniLM-L6-v2\"\n",
    ")\n",
    "\n",
    "# Create the collection, aka vector database. Or, if database already exist, then use it. Specify the model that we want to use to do the embedding.\n",
    "collection = chroma_client.create_collection(\n",
    "    name=\"menu_items_collection\",\n",
    "    embedding_function=sentence_transformers_ef\n",
    ")"
   ]
  },
  {
   "cell_type": "code",
   "execution_count": 10,
   "id": "d7635135",
   "metadata": {},
   "outputs": [],
   "source": [
    "collection.add(\n",
    "    documents=documents,\n",
    "    metadatas=metadata,\n",
    "    ids=ids\n",
    ")"
   ]
  },
  {
   "cell_type": "code",
   "execution_count": 12,
   "id": "e4ff1ad7",
   "metadata": {},
   "outputs": [
    {
     "name": "stdout",
     "output_type": "stream",
     "text": [
      "[['Fried Cake', 'Grilled Cake', 'Grilled Cake', 'Roasted Cake', 'Roasted Cake']]\n"
     ]
    }
   ],
   "source": [
    "# Query the vector database.\n",
    "query_results = collection.query(\n",
    "    query_texts=[\"chocolate cake\"],\n",
    "    n_results=5,\n",
    "    include=[\"documents\", \"metadatas\", \"distances\"]\n",
    ")\n",
    "print(query_results[\"documents\"])"
   ]
  },
  {
   "cell_type": "code",
   "execution_count": 13,
   "id": "0a517c6b",
   "metadata": {},
   "outputs": [
    {
     "name": "stdout",
     "output_type": "stream",
     "text": [
      "[['Fried Smoothie', 'Fried Smoothie', 'Fried Cake', 'Spicy Cake', 'Spicy Cake']]\n"
     ]
    }
   ],
   "source": [
    "# Query the vector database.\n",
    "query_results = collection.query(\n",
    "    query_texts=[\"donut\"],\n",
    "    n_results=5,\n",
    "    include=[\"documents\", \"metadatas\", \"distances\"]\n",
    ")\n",
    "print(query_results[\"documents\"])"
   ]
  },
  {
   "cell_type": "code",
   "execution_count": 14,
   "id": "eb7450fe",
   "metadata": {},
   "outputs": [
    {
     "name": "stdout",
     "output_type": "stream",
     "text": [
      "[['Fried Chicken', 'Sweet Chicken', 'Sweet Chicken', 'Spicy Chicken', 'Crispy Chicken']]\n"
     ]
    }
   ],
   "source": [
    "# Query the vector database.\n",
    "query_results = collection.query(\n",
    "    query_texts=[\"Chicken\"],\n",
    "    n_results=5,\n",
    "    include=[\"documents\", \"metadatas\", \"distances\"]\n",
    ")\n",
    "print(query_results[\"documents\"])"
   ]
  },
  {
   "cell_type": "markdown",
   "id": "106d9284",
   "metadata": {},
   "source": [
    "# Youtube Notes"
   ]
  },
  {
   "cell_type": "code",
   "execution_count": 54,
   "id": "e284ac2e",
   "metadata": {},
   "outputs": [],
   "source": [
    "from youtube_transcript_api import YouTubeTranscriptApi\n",
    "from youtube_transcript_api.formatters import TextFormatter\n",
    "from sentence_transformers import SentenceTransformer\n",
    "import re\n",
    "\n",
    "import google.generativeai as genai\n",
    "from chromadb.utils import embedding_functions\n",
    "\n",
    "import os\n",
    "from dotenv import load_dotenv"
   ]
  },
  {
   "cell_type": "markdown",
   "id": "80774478",
   "metadata": {},
   "source": [
    "## Simpan ke Vector Database (ChromaDB)"
   ]
  },
  {
   "cell_type": "code",
   "execution_count": 43,
   "id": "ef2c0ffb",
   "metadata": {},
   "outputs": [],
   "source": [
    "load_dotenv()  \n",
    "GEMINI_API_KEY = os.getenv(\"GEMINI_API_KEY\")\n",
    "genai.configure(api_key=GEMINI_API_KEY)\n",
    "\n",
    "genai_model = genai.GenerativeModel('gemini-2.5-flash')\n",
    "\n",
    "chroma_client = chromadb.PersistentClient(path=\"./chromadb_youtube_data\")\n",
    "\n",
    "gemini_ef = embedding_functions.GoogleGenerativeAiEmbeddingFunction(\n",
    "    api_key=GEMINI_API_KEY\n",
    ")\n",
    "\n",
    "chroma_collection = chroma_client.get_or_create_collection(\n",
    "    name=\"youtube_transcripts_collection\",\n",
    "    embedding_function=gemini_ef\n",
    ")"
   ]
  },
  {
   "cell_type": "markdown",
   "id": "d4992589",
   "metadata": {},
   "source": [
    "## Extract Youtube Video"
   ]
  },
  {
   "cell_type": "code",
   "execution_count": 55,
   "id": "a09cd183",
   "metadata": {},
   "outputs": [],
   "source": [
    "def extract_youtube_video_id(url: str) -> str:\n",
    "    \"\"\"\n",
    "    Extracts the YouTube video ID from a given URL.\n",
    "    Works for 'youtu.be', 'youtube.com/watch?v=', and 'youtube.com/shorts/' formats.\n",
    "    \"\"\"\n",
    "    # Match standard formats\n",
    "    patterns = [\n",
    "        r\"youtu\\.be/([a-zA-Z0-9_-]{11})\",\n",
    "        r\"v=([a-zA-Z0-9_-]{11})\",\n",
    "        r\"shorts/([a-zA-Z0-9_-]{11})\"\n",
    "    ]\n",
    "\n",
    "    for pattern in patterns:\n",
    "        match = re.search(pattern, url)\n",
    "        if match:\n",
    "            return match.group(1)\n",
    "    \n",
    "    raise ValueError(f\"Invalid YouTube URL: {url}\")"
   ]
  },
  {
   "cell_type": "code",
   "execution_count": null,
   "id": "6088d2b0",
   "metadata": {},
   "outputs": [],
   "source": [
    "# Some sample YouTube videos:\n",
    "# https://youtu.be/IdLSZEYlWVo\n",
    "# https://youtu.be/tL-wnMVyTQI\n",
    "# https://youtu.be/etSdP9CFmko\n",
    "# https://youtu.be/rgRIZDsEwCk\n",
    "# https://youtu.be/_EA-74yr5D4\n",
    "\n",
    "url = \"https://www.youtube.com/watch?v=hQH4-5o0BMM\"\n",
    "yt_video_id = extract_youtube_video_id(url)\n",
    "yt_video_id = 'hQH4-5o0BMM'\n",
    "\n",
    "# Adjust prompt as needed\n",
    "prompt = \"Extract key notes from video transcript: \""
   ]
  },
  {
   "cell_type": "markdown",
   "id": "9bb520ef",
   "metadata": {},
   "source": [
    "## Create Embedding (Vector Representation)"
   ]
  },
  {
   "cell_type": "code",
   "execution_count": 46,
   "id": "18ae90cf",
   "metadata": {},
   "outputs": [],
   "source": [
    "# ----------------------------\n",
    "# Use SentenceTransformer instead of Gemini embedding\n",
    "# ----------------------------\n",
    "from chromadb.utils import embedding_functions\n",
    "\n",
    "st_ef = embedding_functions.SentenceTransformerEmbeddingFunction(\n",
    "    model_name=\"all-MiniLM-L6-v2\"   # ✅ cukup string, bukan objek model\n",
    ")\n",
    "\n",
    "chroma_collection = chroma_client.get_or_create_collection(\n",
    "    name=\"youtube_transcripts_collection\",\n",
    "    embedding_function=st_ef\n",
    ")"
   ]
  },
  {
   "cell_type": "markdown",
   "id": "9e13939b",
   "metadata": {},
   "source": [
    "# Get Transcript From Youtube"
   ]
  },
  {
   "cell_type": "code",
   "execution_count": 47,
   "id": "dd19e70e",
   "metadata": {},
   "outputs": [],
   "source": [
    "# ----------------------------\n",
    "# Fetch transcript\n",
    "# ----------------------------\n",
    "yt_video_id = 'hQH4-5o0BMM'\n",
    "\n",
    "ytt_api = YouTubeTranscriptApi()\n",
    "fetched_transcript = ytt_api.fetch(yt_video_id, languages=['en', 'en-US', 'en-GB'])\n",
    "\n",
    "formatter = TextFormatter()\n",
    "transcript = formatter.format_transcript(fetched_transcript)\n",
    "\n",
    "with open(\"temp_transcript.txt\", \"w\", encoding=\"utf-8\") as f:\n",
    "    f.write(transcript)\n"
   ]
  },
  {
   "cell_type": "markdown",
   "id": "ee640974",
   "metadata": {},
   "source": [
    "## Summarize Gemine"
   ]
  },
  {
   "cell_type": "code",
   "execution_count": 48,
   "id": "79ab9f2b",
   "metadata": {},
   "outputs": [],
   "source": [
    "# ----------------------------\n",
    "# Summarize using Gemini (optional)\n",
    "# ----------------------------\n",
    "prompt = \"Extract key notes from video transcript: \"\n",
    "response = genai_model.generate_content(prompt + transcript)\n",
    "\n",
    "summary = response.text\n",
    "\n",
    "with open(\"summary.txt\", \"w\", encoding=\"utf-8\") as f:\n",
    "    f.write(summary)"
   ]
  },
  {
   "cell_type": "code",
   "execution_count": 49,
   "id": "30d8c2fe",
   "metadata": {},
   "outputs": [
    {
     "name": "stdout",
     "output_type": "stream",
     "text": [
      "Transcript summarized and stored in ChromaDB successfully.\n"
     ]
    }
   ],
   "source": [
    "# ----------------------------\n",
    "# Upsert into ChromaDB\n",
    "# ----------------------------\n",
    "chroma_collection.upsert(\n",
    "    documents=[summary],\n",
    "    ids=[yt_video_id]\n",
    ")\n",
    "\n",
    "print(\"Transcript summarized and stored in ChromaDB successfully.\")"
   ]
  },
  {
   "cell_type": "markdown",
   "id": "b521455b",
   "metadata": {},
   "source": [
    "## Validate Data ChromaDB"
   ]
  },
  {
   "cell_type": "code",
   "execution_count": 50,
   "id": "b132cf3f",
   "metadata": {},
   "outputs": [
    {
     "name": "stdout",
     "output_type": "stream",
     "text": [
      "=== Stored Document ===\n",
      "{'ids': ['hQH4-5o0BMM'], 'embeddings': None, 'documents': ['Here are the key notes from the video transcript:\\n\\n**Recipe Title:** Spaghetti and Meat Sauce (Claimed to be the \"only one you\\'ll ever make again\" and \"best ever\")\\n\\n**Key Features:**\\n*   **Time:** 30 minutes total preparation and cooking.\\n*   **Health:** Healthy, loaded with veggies.\\n*   **Flavor:** Delicious, full of flavor, deep and rich taste.\\n*   **Convenience:** Easy weeknight dinner.\\n*   **Secret:** Veggies chopped fine enough that \"allergic to vegetables\" family members won\\'t notice.\\n*   **Technique:** Pasta finishes cooking *in the sauce* for maximum flavor.\\n\\n**Ingredients:**\\n\\n*   **Veggies:**\\n    *   Onion (rough chop)\\n    *   Garlic (5 cloves)\\n    *   Carrot (large, peeled or not, good wash)\\n    *   Celery (similar size chunks, including leaves)\\n*   **Fat:** Olive oil (generous \"glug\")\\n*   **Meats:**\\n    *   1 lb Ground Beef (85/15 fat content recommended for balance)\\n    *   0.5 lb Italian Sausage (2 links, casing removed)\\n*   **Seasonings & Sauce:**\\n    *   Salt (to taste, for cooking veggies)\\n    *   1 tbsp Dried Italian Seasoning\\n    *   Crushed Fennel (optional, for \"sausy but sweet\" flavor)\\n    *   1 whole can Tomato Paste (for deep, rich, concentrated flavor)\\n    *   1 whole can Crushed Tomatoes\\n    *   Water (from rinsing tomato can)\\n    *   **Secret Ingredient:** Fish Sauce (for Umami saltiness, shortcut for long-cooked flavor)\\n*   **Pasta:** Spaghetti (boiled half the time on the box)\\n*   **Finishing:**\\n    *   Grated Parmesan Cheese\\n    *   Freshly chopped Parsley\\n    *   Freshly chopped Basil\\n    *   Crushed Red Pepper (optional, for hint of spiciness)\\n    *   Reserved Pasta Water (to help sauce cling to pasta)\\n\\n**Preparation Steps:**\\n\\n1.  **Prep Veggies:**\\n    *   Rough chop onion, carrot, celery into similar size pieces.\\n    *   Place onion, garlic, carrot, and celery into a food processor.\\n    *   Pulse until small pieces (don\\'t over-process to mush).\\n2.  **Cook Veggies:**\\n    *   Add a \"nice glug\" of olive oil to a large heavy pot over medium-high heat until shimmery.\\n    *   Add chopped vegetables, season with salt to \"make it sweat\" and caramelize. Cook until soft and brown bits form.\\n3.  **Add Meats:**\\n    *   Add ground beef (85/15) and Italian sausage (casing removed) to the pot.\\n    *   Break up meat and combine with veggies. Cook until browned.\\n    *   (Note: Veggies \"cling\" to meat, tenderizes meat in short time).\\n4.  **Add Flavorings:**\\n    *   Add 1 tbsp dried Italian seasoning and optional crushed fennel.\\n    *   Add 1 whole can of tomato paste. Cook, stirring, until aromatic and tomato paste caramelizes slightly.\\n5.  **Add Liquids & Simmer:**\\n    *   Add 1 whole can of crushed tomatoes.\\n    *   Rinse the crushed tomato can halfway with water and add to the pot.\\n    *   Add fish sauce (secret ingredient for umami).\\n    *   Scrape any caramelized bits from the bottom of the pot (\"that is the flavor!\").\\n    *   Cover and simmer for 15 minutes.\\n6.  **Cook Pasta:**\\n    *   While sauce simmers, boil spaghetti for *half* the time specified on the box.\\n    *   Reserve some pasta water.\\n7.  **Combine Pasta & Sauce:**\\n    *   Add the partially cooked spaghetti directly into the simmering meat sauce.\\n    *   Add reserved pasta water as needed to help the sauce cling to the pasta.\\n    *   Ensure spaghetti is fully submerged.\\n    *   Continue cooking for another 5-7 minutes in the sauce until fully cooked and flavored.\\n8.  **Serve & Garnish:**\\n    *   Serve immediately.\\n    *   Finish with grated Parmesan cheese, fresh chopped parsley, and fresh chopped basil.\\n    *   Optional: Add crushed red pepper for a hint of spiciness.'], 'uris': None, 'included': ['documents'], 'data': None, 'metadatas': None}\n"
     ]
    }
   ],
   "source": [
    "# ----------------------------\n",
    "# Validate Data in Chroma\n",
    "# ----------------------------\n",
    "result = chroma_collection.get(yt_video_id, include=['documents'])\n",
    "print(\"=== Stored Document ===\")\n",
    "print(result)"
   ]
  },
  {
   "cell_type": "markdown",
   "id": "06777e53",
   "metadata": {},
   "source": [
    "## Query & Search"
   ]
  },
  {
   "cell_type": "code",
   "execution_count": 51,
   "id": "29247554",
   "metadata": {},
   "outputs": [
    {
     "name": "stdout",
     "output_type": "stream",
     "text": [
      "************************************************************************\n",
      "1.  https://youtu.be/hQH4-5o0BMM\n",
      "************************************************************************\n",
      "Here are the key notes from the video transcript:\n",
      "\n",
      "**Recipe Title:** Spaghetti and Meat Sauce (Claimed to be the \"only one you'll ever make again\" and \"best ever\")\n",
      "\n",
      "**Key Features:**\n",
      "*   **Time:** 30 minutes total preparation and cooking.\n",
      "*   **Health:** Healthy, loaded with veggies.\n",
      "*   **Flavor:** Delicious, full of flavor, deep and rich taste.\n",
      "*   **Convenience:** Easy weeknight dinner.\n",
      "*   **Secret:** Veggies chopped fine enough that \"allergic to vegetables\" family members won't notice.\n",
      "*   **Technique:** Pasta finishes cooking *in the sauce* for maximum flavor.\n",
      "\n",
      "**Ingredients:**\n",
      "\n",
      "*   **Veggies:**\n",
      "    *   Onion (rough chop)\n",
      "    *   Garlic (5 cloves)\n",
      "    *   Carrot (large, peeled or not, good wash)\n",
      "    *   Celery (similar size chunks, including leaves)\n",
      "*   **Fat:** Olive oil (generous \"glug\")\n",
      "*   **Meats:**\n",
      "    *   1 lb Ground Beef (85/15 fat content recommended for balance)\n",
      "    *   0.5 lb Italian Sausage (2 links, casing removed)\n",
      "*   **Seasonings & Sauce:**\n",
      "    *   Salt (to taste, for cooking veggies)\n",
      "    *   1 tbsp Dried Italian Seasoning\n",
      "    *   Crushed Fennel (optional, for \"sausy but sweet\" flavor)\n",
      "    *   1 whole can Tomato Paste (for deep, rich, concentrated flavor)\n",
      "    *   1 whole can Crushed Tomatoes\n",
      "    *   Water (from rinsing tomato can)\n",
      "    *   **Secret Ingredient:** Fish Sauce (for Umami saltiness, shortcut for long-cooked flavor)\n",
      "*   **Pasta:** Spaghetti (boiled half the time on the box)\n",
      "*   **Finishing:**\n",
      "    *   Grated Parmesan Cheese\n",
      "    *   Freshly chopped Parsley\n",
      "    *   Freshly chopped Basil\n",
      "    *   Crushed Red Pepper (optional, for hint of spiciness)\n",
      "    *   Reserved Pasta Water (to help sauce cling to pasta)\n",
      "\n",
      "**Preparation Steps:**\n",
      "\n",
      "1.  **Prep Veggies:**\n",
      "    *   Rough chop onion, carrot, celery into similar size pieces.\n",
      "    *   Place onion, garlic, carrot, and celery into a food processor.\n",
      "    *   Pulse until small pieces (don't over-process to mush).\n",
      "2.  **Cook Veggies:**\n",
      "    *   Add a \"nice glug\" of olive oil to a large heavy pot over medium-high heat until shimmery.\n",
      "    *   Add chopped vegetables, season with salt to \"make it sweat\" and caramelize. Cook until soft and brown bits form.\n",
      "3.  **Add Meats:**\n",
      "    *   Add ground beef (85/15) and Italian sausage (casing removed) to the pot.\n",
      "    *   Break up meat and combine with veggies. Cook until browned.\n",
      "    *   (Note: Veggies \"cling\" to meat, tenderizes meat in short time).\n",
      "4.  **Add Flavorings:**\n",
      "    *   Add 1 tbsp dried Italian seasoning and optional crushed fennel.\n",
      "    *   Add 1 whole can of tomato paste. Cook, stirring, until aromatic and tomato paste caramelizes slightly.\n",
      "5.  **Add Liquids & Simmer:**\n",
      "    *   Add 1 whole can of crushed tomatoes.\n",
      "    *   Rinse the crushed tomato can halfway with water and add to the pot.\n",
      "    *   Add fish sauce (secret ingredient for umami).\n",
      "    *   Scrape any caramelized bits from the bottom of the pot (\"that is the flavor!\").\n",
      "    *   Cover and simmer for 15 minutes.\n",
      "6.  **Cook Pasta:**\n",
      "    *   While sauce simmers, boil spaghetti for *half* the time specified on the box.\n",
      "    *   Reserve some pasta water.\n",
      "7.  **Combine Pasta & Sauce:**\n",
      "    *   Add the partially cooked spaghetti directly into the simmering meat sauce.\n",
      "    *   Add reserved pasta water as needed to help the sauce cling to the pasta.\n",
      "    *   Ensure spaghetti is fully submerged.\n",
      "    *   Continue cooking for another 5-7 minutes in the sauce until fully cooked and flavored.\n",
      "8.  **Serve & Garnish:**\n",
      "    *   Serve immediately.\n",
      "    *   Finish with grated Parmesan cheese, fresh chopped parsley, and fresh chopped basil.\n",
      "    *   Optional: Add crushed red pepper for a hint of spiciness.\n",
      "\n"
     ]
    }
   ],
   "source": [
    "# ----------------------------\n",
    "# Query the Vector DB\n",
    "# ----------------------------\n",
    "query_text = \"How much beef do I need for the beef ribs recipe?\"\n",
    "n_results = 5\n",
    "\n",
    "results = chroma_collection.query(\n",
    "    query_texts=[query_text],\n",
    "    n_results=n_results,\n",
    "    include=['documents', 'distances', 'metadatas'],\n",
    ")\n",
    "\n",
    "for i in range(len(results['ids'][0])):\n",
    "    vid = results[\"ids\"][0][i]\n",
    "    doc = results['documents'][0][i]\n",
    "\n",
    "    print(\"************************************************************************\")\n",
    "    print(f\"{i+1}.  https://youtu.be/{vid}\")\n",
    "    print(\"************************************************************************\")\n",
    "    print(doc)\n",
    "    print()"
   ]
  },
  {
   "cell_type": "code",
   "execution_count": 52,
   "id": "f91e2777",
   "metadata": {},
   "outputs": [
    {
     "name": "stdout",
     "output_type": "stream",
     "text": [
      "=== Gemini Response ===\n",
      "The provided document details a recipe for \"Spaghetti and Meat Sauce.\" It does not contain any information about a beef ribs recipe.\n",
      "\n",
      "For the spaghetti and meat sauce recipe, it calls for **1 lb Ground Beef** (85/15 fat content recommended).\n"
     ]
    }
   ],
   "source": [
    "# ----------------------------\n",
    "# Use Gemini to Answer Based on Context\n",
    "# ----------------------------\n",
    "prompt = (\n",
    "    \"Answer the following QUESTION using DOCUMENT as context.\\n\"\n",
    "    f\"QUESTION: {query_text}\\n\"\n",
    "    f\"DOCUMENT: {results['documents'][0][0]}\"\n",
    ")\n",
    "\n",
    "response = genai_model.generate_content(prompt, stream=False)\n",
    "print(\"=== Gemini Response ===\")\n",
    "print(response.text)"
   ]
  },
  {
   "cell_type": "code",
   "execution_count": null,
   "id": "f44acfc4",
   "metadata": {},
   "outputs": [],
   "source": []
  }
 ],
 "metadata": {
  "kernelspec": {
   "display_name": "bootcamp_algo",
   "language": "python",
   "name": "python3"
  },
  "language_info": {
   "codemirror_mode": {
    "name": "ipython",
    "version": 3
   },
   "file_extension": ".py",
   "mimetype": "text/x-python",
   "name": "python",
   "nbconvert_exporter": "python",
   "pygments_lexer": "ipython3",
   "version": "3.10.18"
  }
 },
 "nbformat": 4,
 "nbformat_minor": 5
}
